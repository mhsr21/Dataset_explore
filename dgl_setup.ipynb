{
 "cells": [
  {
   "cell_type": "markdown",
   "metadata": {},
   "source": [
    "python 3.10 required"
   ]
  },
  {
   "cell_type": "code",
   "execution_count": null,
   "metadata": {},
   "outputs": [
    {
     "name": "stdout",
     "output_type": "stream",
     "text": [
      "Looking in links: https://data.dgl.ai/wheels/repo.html\n",
      "Requirement already satisfied: dgl in /home/mhsr21/miniconda3/envs/dgl/lib/python3.10/site-packages (0.9.1)\n",
      "Requirement already satisfied: numpy>=1.14.0 in /home/mhsr21/miniconda3/envs/dgl/lib/python3.10/site-packages (from dgl) (1.26.4)\n",
      "Requirement already satisfied: scipy>=1.1.0 in /home/mhsr21/miniconda3/envs/dgl/lib/python3.10/site-packages (from dgl) (1.13.1)\n",
      "Requirement already satisfied: networkx>=2.1 in /home/mhsr21/miniconda3/envs/dgl/lib/python3.10/site-packages (from dgl) (3.3)\n",
      "Requirement already satisfied: requests>=2.19.0 in /home/mhsr21/miniconda3/envs/dgl/lib/python3.10/site-packages (from dgl) (2.32.2)\n",
      "Requirement already satisfied: tqdm in /home/mhsr21/miniconda3/envs/dgl/lib/python3.10/site-packages (from dgl) (4.66.4)\n",
      "Requirement already satisfied: psutil>=5.8.0 in /home/mhsr21/miniconda3/envs/dgl/lib/python3.10/site-packages (from dgl) (5.9.0)\n",
      "Requirement already satisfied: charset-normalizer<4,>=2 in /home/mhsr21/miniconda3/envs/dgl/lib/python3.10/site-packages (from requests>=2.19.0->dgl) (3.3.2)\n",
      "Requirement already satisfied: idna<4,>=2.5 in /home/mhsr21/miniconda3/envs/dgl/lib/python3.10/site-packages (from requests>=2.19.0->dgl) (3.7)\n",
      "Requirement already satisfied: urllib3<3,>=1.21.1 in /home/mhsr21/miniconda3/envs/dgl/lib/python3.10/site-packages (from requests>=2.19.0->dgl) (2.2.1)\n",
      "Requirement already satisfied: certifi>=2017.4.17 in /home/mhsr21/miniconda3/envs/dgl/lib/python3.10/site-packages (from requests>=2.19.0->dgl) (2024.2.2)\n",
      "Requirement already satisfied: torch in /home/mhsr21/miniconda3/envs/dgl/lib/python3.10/site-packages (1.12.0)\n",
      "Collecting torch\n",
      "  Using cached torch-2.3.0-cp310-cp310-manylinux1_x86_64.whl.metadata (26 kB)\n",
      "Requirement already satisfied: filelock in /home/mhsr21/miniconda3/envs/dgl/lib/python3.10/site-packages (from torch) (3.14.0)\n",
      "Requirement already satisfied: typing-extensions>=4.8.0 in /home/mhsr21/miniconda3/envs/dgl/lib/python3.10/site-packages (from torch) (4.11.0)\n",
      "Requirement already satisfied: sympy in /home/mhsr21/miniconda3/envs/dgl/lib/python3.10/site-packages (from torch) (1.12)\n",
      "Requirement already satisfied: networkx in /home/mhsr21/miniconda3/envs/dgl/lib/python3.10/site-packages (from torch) (3.3)\n",
      "Requirement already satisfied: jinja2 in /home/mhsr21/miniconda3/envs/dgl/lib/python3.10/site-packages (from torch) (3.1.4)\n",
      "Requirement already satisfied: fsspec in /home/mhsr21/miniconda3/envs/dgl/lib/python3.10/site-packages (from torch) (2024.5.0)\n",
      "Requirement already satisfied: nvidia-cuda-nvrtc-cu12==12.1.105 in /home/mhsr21/miniconda3/envs/dgl/lib/python3.10/site-packages (from torch) (12.1.105)\n",
      "Requirement already satisfied: nvidia-cuda-runtime-cu12==12.1.105 in /home/mhsr21/miniconda3/envs/dgl/lib/python3.10/site-packages (from torch) (12.1.105)\n",
      "Requirement already satisfied: nvidia-cuda-cupti-cu12==12.1.105 in /home/mhsr21/miniconda3/envs/dgl/lib/python3.10/site-packages (from torch) (12.1.105)\n",
      "Requirement already satisfied: nvidia-cudnn-cu12==8.9.2.26 in /home/mhsr21/miniconda3/envs/dgl/lib/python3.10/site-packages (from torch) (8.9.2.26)\n",
      "Requirement already satisfied: nvidia-cublas-cu12==12.1.3.1 in /home/mhsr21/miniconda3/envs/dgl/lib/python3.10/site-packages (from torch) (12.1.3.1)\n",
      "Requirement already satisfied: nvidia-cufft-cu12==11.0.2.54 in /home/mhsr21/miniconda3/envs/dgl/lib/python3.10/site-packages (from torch) (11.0.2.54)\n",
      "Requirement already satisfied: nvidia-curand-cu12==10.3.2.106 in /home/mhsr21/miniconda3/envs/dgl/lib/python3.10/site-packages (from torch) (10.3.2.106)\n",
      "Requirement already satisfied: nvidia-cusolver-cu12==11.4.5.107 in /home/mhsr21/miniconda3/envs/dgl/lib/python3.10/site-packages (from torch) (11.4.5.107)\n",
      "Requirement already satisfied: nvidia-cusparse-cu12==12.1.0.106 in /home/mhsr21/miniconda3/envs/dgl/lib/python3.10/site-packages (from torch) (12.1.0.106)\n",
      "Requirement already satisfied: nvidia-nccl-cu12==2.20.5 in /home/mhsr21/miniconda3/envs/dgl/lib/python3.10/site-packages (from torch) (2.20.5)\n",
      "Requirement already satisfied: nvidia-nvtx-cu12==12.1.105 in /home/mhsr21/miniconda3/envs/dgl/lib/python3.10/site-packages (from torch) (12.1.105)\n",
      "Requirement already satisfied: triton==2.3.0 in /home/mhsr21/miniconda3/envs/dgl/lib/python3.10/site-packages (from torch) (2.3.0)\n",
      "Requirement already satisfied: nvidia-nvjitlink-cu12 in /home/mhsr21/miniconda3/envs/dgl/lib/python3.10/site-packages (from nvidia-cusolver-cu12==11.4.5.107->torch) (12.5.40)\n",
      "Requirement already satisfied: MarkupSafe>=2.0 in /home/mhsr21/miniconda3/envs/dgl/lib/python3.10/site-packages (from jinja2->torch) (2.1.5)\n",
      "Requirement already satisfied: mpmath>=0.19 in /home/mhsr21/miniconda3/envs/dgl/lib/python3.10/site-packages (from sympy->torch) (1.3.0)\n",
      "Using cached torch-2.3.0-cp310-cp310-manylinux1_x86_64.whl (779.1 MB)\n",
      "Installing collected packages: torch\n",
      "  Attempting uninstall: torch\n",
      "    Found existing installation: torch 1.12.0\n",
      "    Uninstalling torch-1.12.0:\n",
      "      Successfully uninstalled torch-1.12.0\n",
      "Successfully installed torch-2.3.0\n",
      "Collecting torchdata\n",
      "  Using cached torchdata-0.7.1-cp310-cp310-manylinux_2_17_x86_64.manylinux2014_x86_64.whl.metadata (13 kB)\n",
      "Requirement already satisfied: urllib3>=1.25 in /home/mhsr21/miniconda3/envs/dgl/lib/python3.10/site-packages (from torchdata) (2.2.1)\n",
      "Requirement already satisfied: requests in /home/mhsr21/miniconda3/envs/dgl/lib/python3.10/site-packages (from torchdata) (2.32.2)\n",
      "Requirement already satisfied: torch>=2 in /home/mhsr21/miniconda3/envs/dgl/lib/python3.10/site-packages (from torchdata) (2.3.0)\n",
      "Requirement already satisfied: filelock in /home/mhsr21/miniconda3/envs/dgl/lib/python3.10/site-packages (from torch>=2->torchdata) (3.14.0)\n",
      "Requirement already satisfied: typing-extensions>=4.8.0 in /home/mhsr21/miniconda3/envs/dgl/lib/python3.10/site-packages (from torch>=2->torchdata) (4.11.0)\n",
      "Requirement already satisfied: sympy in /home/mhsr21/miniconda3/envs/dgl/lib/python3.10/site-packages (from torch>=2->torchdata) (1.12)\n",
      "Requirement already satisfied: networkx in /home/mhsr21/miniconda3/envs/dgl/lib/python3.10/site-packages (from torch>=2->torchdata) (3.3)\n",
      "Requirement already satisfied: jinja2 in /home/mhsr21/miniconda3/envs/dgl/lib/python3.10/site-packages (from torch>=2->torchdata) (3.1.4)\n",
      "Requirement already satisfied: fsspec in /home/mhsr21/miniconda3/envs/dgl/lib/python3.10/site-packages (from torch>=2->torchdata) (2024.5.0)\n",
      "Requirement already satisfied: nvidia-cuda-nvrtc-cu12==12.1.105 in /home/mhsr21/miniconda3/envs/dgl/lib/python3.10/site-packages (from torch>=2->torchdata) (12.1.105)\n",
      "Requirement already satisfied: nvidia-cuda-runtime-cu12==12.1.105 in /home/mhsr21/miniconda3/envs/dgl/lib/python3.10/site-packages (from torch>=2->torchdata) (12.1.105)\n",
      "Requirement already satisfied: nvidia-cuda-cupti-cu12==12.1.105 in /home/mhsr21/miniconda3/envs/dgl/lib/python3.10/site-packages (from torch>=2->torchdata) (12.1.105)\n",
      "Requirement already satisfied: nvidia-cudnn-cu12==8.9.2.26 in /home/mhsr21/miniconda3/envs/dgl/lib/python3.10/site-packages (from torch>=2->torchdata) (8.9.2.26)\n",
      "Requirement already satisfied: nvidia-cublas-cu12==12.1.3.1 in /home/mhsr21/miniconda3/envs/dgl/lib/python3.10/site-packages (from torch>=2->torchdata) (12.1.3.1)\n",
      "Requirement already satisfied: nvidia-cufft-cu12==11.0.2.54 in /home/mhsr21/miniconda3/envs/dgl/lib/python3.10/site-packages (from torch>=2->torchdata) (11.0.2.54)\n",
      "Requirement already satisfied: nvidia-curand-cu12==10.3.2.106 in /home/mhsr21/miniconda3/envs/dgl/lib/python3.10/site-packages (from torch>=2->torchdata) (10.3.2.106)\n",
      "Requirement already satisfied: nvidia-cusolver-cu12==11.4.5.107 in /home/mhsr21/miniconda3/envs/dgl/lib/python3.10/site-packages (from torch>=2->torchdata) (11.4.5.107)\n",
      "Requirement already satisfied: nvidia-cusparse-cu12==12.1.0.106 in /home/mhsr21/miniconda3/envs/dgl/lib/python3.10/site-packages (from torch>=2->torchdata) (12.1.0.106)\n",
      "Requirement already satisfied: nvidia-nccl-cu12==2.20.5 in /home/mhsr21/miniconda3/envs/dgl/lib/python3.10/site-packages (from torch>=2->torchdata) (2.20.5)\n",
      "Requirement already satisfied: nvidia-nvtx-cu12==12.1.105 in /home/mhsr21/miniconda3/envs/dgl/lib/python3.10/site-packages (from torch>=2->torchdata) (12.1.105)\n",
      "Requirement already satisfied: triton==2.3.0 in /home/mhsr21/miniconda3/envs/dgl/lib/python3.10/site-packages (from torch>=2->torchdata) (2.3.0)\n",
      "Requirement already satisfied: nvidia-nvjitlink-cu12 in /home/mhsr21/miniconda3/envs/dgl/lib/python3.10/site-packages (from nvidia-cusolver-cu12==11.4.5.107->torch>=2->torchdata) (12.5.40)\n",
      "Requirement already satisfied: charset-normalizer<4,>=2 in /home/mhsr21/miniconda3/envs/dgl/lib/python3.10/site-packages (from requests->torchdata) (3.3.2)\n",
      "Requirement already satisfied: idna<4,>=2.5 in /home/mhsr21/miniconda3/envs/dgl/lib/python3.10/site-packages (from requests->torchdata) (3.7)\n",
      "Requirement already satisfied: certifi>=2017.4.17 in /home/mhsr21/miniconda3/envs/dgl/lib/python3.10/site-packages (from requests->torchdata) (2024.2.2)\n",
      "Requirement already satisfied: MarkupSafe>=2.0 in /home/mhsr21/miniconda3/envs/dgl/lib/python3.10/site-packages (from jinja2->torch>=2->torchdata) (2.1.5)\n",
      "Requirement already satisfied: mpmath>=0.19 in /home/mhsr21/miniconda3/envs/dgl/lib/python3.10/site-packages (from sympy->torch>=2->torchdata) (1.3.0)\n",
      "Using cached torchdata-0.7.1-cp310-cp310-manylinux_2_17_x86_64.manylinux2014_x86_64.whl (4.7 MB)\n",
      "Installing collected packages: torchdata\n",
      "Successfully installed torchdata-0.7.1\n"
     ]
    }
   ],
   "source": [
    "# downlaod the pacakge\n",
    "!pip install dgl -f https://data.dgl.ai/wheels/repo.html\n",
    "!pip install torch --upgrade\n",
    "!pip install torchdata\n",
    "# this package is solving the compatability issue between dgl and torch"
   ]
  },
  {
   "cell_type": "code",
   "execution_count": null,
   "metadata": {},
   "outputs": [
    {
     "name": "stdout",
     "output_type": "stream",
     "text": [
      "Found existing installation: dgl 0.9.1\n",
      "Uninstalling dgl-0.9.1:\n",
      "  Successfully uninstalled dgl-0.9.1\n",
      "Found existing installation: torch 2.3.0\n",
      "Uninstalling torch-2.3.0:\n",
      "  Successfully uninstalled torch-2.3.0\n",
      "Found existing installation: torchdata 0.7.1\n",
      "Uninstalling torchdata-0.7.1:\n",
      "  Successfully uninstalled torchdata-0.7.1\n"
     ]
    }
   ],
   "source": [
    "!pip uninstall -y dgl torch torchdata"
   ]
  },
  {
   "cell_type": "code",
   "execution_count": null,
   "metadata": {},
   "outputs": [
    {
     "name": "stdout",
     "output_type": "stream",
     "text": [
      "Collecting torch==1.12.0\n",
      "  Using cached torch-1.12.0-cp310-cp310-manylinux1_x86_64.whl.metadata (22 kB)\n",
      "Requirement already satisfied: typing-extensions in /home/mhsr21/miniconda3/envs/dgl/lib/python3.10/site-packages (from torch==1.12.0) (4.11.0)\n",
      "Using cached torch-1.12.0-cp310-cp310-manylinux1_x86_64.whl (776.3 MB)\n",
      "Installing collected packages: torch\n",
      "Successfully installed torch-1.12.0\n",
      "Looking in links: https://data.dgl.ai/wheels/repo.html\n",
      "Collecting dgl==0.9.1\n",
      "  Using cached dgl-0.9.1-cp310-cp310-manylinux1_x86_64.whl.metadata (557 bytes)\n",
      "Requirement already satisfied: numpy>=1.14.0 in /home/mhsr21/miniconda3/envs/dgl/lib/python3.10/site-packages (from dgl==0.9.1) (1.26.4)\n",
      "Requirement already satisfied: scipy>=1.1.0 in /home/mhsr21/miniconda3/envs/dgl/lib/python3.10/site-packages (from dgl==0.9.1) (1.13.1)\n",
      "Requirement already satisfied: networkx>=2.1 in /home/mhsr21/miniconda3/envs/dgl/lib/python3.10/site-packages (from dgl==0.9.1) (3.3)\n",
      "Requirement already satisfied: requests>=2.19.0 in /home/mhsr21/miniconda3/envs/dgl/lib/python3.10/site-packages (from dgl==0.9.1) (2.32.2)\n",
      "Requirement already satisfied: tqdm in /home/mhsr21/miniconda3/envs/dgl/lib/python3.10/site-packages (from dgl==0.9.1) (4.66.4)\n",
      "Requirement already satisfied: psutil>=5.8.0 in /home/mhsr21/miniconda3/envs/dgl/lib/python3.10/site-packages (from dgl==0.9.1) (5.9.0)\n",
      "Requirement already satisfied: charset-normalizer<4,>=2 in /home/mhsr21/miniconda3/envs/dgl/lib/python3.10/site-packages (from requests>=2.19.0->dgl==0.9.1) (3.3.2)\n",
      "Requirement already satisfied: idna<4,>=2.5 in /home/mhsr21/miniconda3/envs/dgl/lib/python3.10/site-packages (from requests>=2.19.0->dgl==0.9.1) (3.7)\n",
      "Requirement already satisfied: urllib3<3,>=1.21.1 in /home/mhsr21/miniconda3/envs/dgl/lib/python3.10/site-packages (from requests>=2.19.0->dgl==0.9.1) (2.2.1)\n",
      "Requirement already satisfied: certifi>=2017.4.17 in /home/mhsr21/miniconda3/envs/dgl/lib/python3.10/site-packages (from requests>=2.19.0->dgl==0.9.1) (2024.2.2)\n",
      "Using cached dgl-0.9.1-cp310-cp310-manylinux1_x86_64.whl (4.9 MB)\n",
      "Installing collected packages: dgl\n",
      "Successfully installed dgl-0.9.1\n"
     ]
    }
   ],
   "source": [
    "# 필요한 패키지 설치\n",
    "!pip install torch==1.12.0\n",
    "!pip install dgl==0.9.1 -f https://data.dgl.ai/wheels/repo.html"
   ]
  }
 ],
 "metadata": {
  "language_info": {
   "name": "python"
  }
 },
 "nbformat": 4,
 "nbformat_minor": 2
}
