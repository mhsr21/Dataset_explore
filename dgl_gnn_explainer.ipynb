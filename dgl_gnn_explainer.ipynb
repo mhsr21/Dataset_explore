{
 "cells": [
  {
   "cell_type": "code",
   "execution_count": 26,
   "metadata": {},
   "outputs": [],
   "source": [
    "import os\n",
    "os.environ['DGLBACKEND'] = 'pytorch'"
   ]
  },
  {
   "cell_type": "code",
   "execution_count": 27,
   "metadata": {},
   "outputs": [],
   "source": [
    "import dgl.function as fn\n",
    "import torch\n",
    "import torch.nn as nn\n",
    "from dgl.data import GINDataset\n",
    "from dgl.dataloading import GraphDataLoader\n",
    "from dgl.nn import AvgPooling, GNNExplainer"
   ]
  },
  {
   "cell_type": "code",
   "execution_count": 28,
   "metadata": {},
   "outputs": [],
   "source": [
    "#Load dataset\n",
    "data = GINDataset('MUTAG', self_loop=True)\n",
    "dataloader = GraphDataLoader(data, batch_size=64, shuffle=True)"
   ]
  },
  {
   "cell_type": "code",
   "execution_count": 29,
   "metadata": {},
   "outputs": [],
   "source": [
    "class Model(nn.Module):\n",
    "  def __init__(self, in_feats, out_feats):\n",
    "    super(Model, self).__init__()\n",
    "    self.linear = nn.Linear(in_feats, out_feats)\n",
    "    self.pool = AvgPooling()\n",
    "  def forward(self, graph, feat, eweight=None):\n",
    "    with graph.local_scope():\n",
    "      feat = self.linear(feat)\n",
    "      graph.ndata['h'] = feat\n",
    "      if eweight is None:\n",
    "        graph.update_all(fn.copy_u('h', 'm'), fn.sum('m', 'h'))\n",
    "      else:\n",
    "        graph.edata['w'] = eweight\n",
    "        graph.update_all(fn.u_mul_e('h', 'w', 'm'), fn.sum('m', 'h'))\n",
    "      return self.pool(graph, graph.ndata['h'])"
   ]
  },
  {
   "cell_type": "code",
   "execution_count": 30,
   "metadata": {},
   "outputs": [],
   "source": [
    "feat_size = data[0][0].ndata['attr'].shape[1]\n",
    "model = Model(feat_size, data.gclasses)\n",
    "criterion = nn.CrossEntropyLoss()\n",
    "optimizer = torch.optim.Adam(model.parameters(), lr=1e-2)"
   ]
  },
  {
   "cell_type": "code",
   "execution_count": 31,
   "metadata": {},
   "outputs": [],
   "source": [
    "for bg, labels in dataloader:\n",
    "  logits = model(bg, bg.ndata['attr'])\n",
    "  loss = criterion(logits, labels)\n",
    "  optimizer.zero_grad()\n",
    "  loss.backward()\n",
    "  optimizer.step()"
   ]
  },
  {
   "cell_type": "code",
   "execution_count": 32,
   "metadata": {},
   "outputs": [
    {
     "name": "stderr",
     "output_type": "stream",
     "text": [
      "Explain graph: 100%|██████████| 100/100 [00:00<00:00, 799.22it/s]\n"
     ]
    },
    {
     "data": {
      "text/plain": [
       "tensor([0.2613, 0.2860, 0.2739, 0.2642, 0.2331, 0.2785, 0.2759])"
      ]
     },
     "execution_count": 32,
     "metadata": {},
     "output_type": "execute_result"
    }
   ],
   "source": [
    "explainer = GNNExplainer(model, num_hops=1)\n",
    "g, _ = data[0]\n",
    "features = g.ndata['attr']\n",
    "feat_mask, edge_mask = explainer.explain_graph(g, features)\n",
    "feat_mask"
   ]
  },
  {
   "cell_type": "code",
   "execution_count": 33,
   "metadata": {},
   "outputs": [
    {
     "data": {
      "text/plain": [
       "tensor([0.8379, 0.2341, 0.2255, 0.2162, 0.1584, 0.2176, 0.1802, 0.8436, 0.2124,\n",
       "        0.2183, 0.8383, 0.1783, 0.8391, 0.2102, 0.2183, 0.1870, 0.2281, 0.1861,\n",
       "        0.2262, 0.2383, 0.2417, 0.1837, 0.2380, 0.2308, 0.2391, 0.2528, 0.1652,\n",
       "        0.8472, 0.1965, 0.2349, 0.2507, 0.2019, 0.8361, 0.2266, 0.1428, 0.2096,\n",
       "        0.2485, 0.8513, 0.2320, 0.2369, 0.2289, 0.2542, 0.2509, 0.2197, 0.2362,\n",
       "        0.2255, 0.2202, 0.2336, 0.8328, 0.2306, 0.8482, 0.2363, 0.2059, 0.8400,\n",
       "        0.2326, 0.2544, 0.2362, 0.1394, 0.2354, 0.2262, 0.2538, 0.2365, 0.2477,\n",
       "        0.2182, 0.2155, 0.1798, 0.1881, 0.2527, 0.2368, 0.2409, 0.2239, 0.2479,\n",
       "        0.2398, 0.1910, 0.7913, 0.7982, 0.1958])"
      ]
     },
     "execution_count": 33,
     "metadata": {},
     "output_type": "execute_result"
    }
   ],
   "source": [
    "edge_mask"
   ]
  },
  {
   "cell_type": "markdown",
   "metadata": {},
   "source": [
    "##Explain the Node"
   ]
  },
  {
   "cell_type": "code",
   "execution_count": 34,
   "metadata": {},
   "outputs": [],
   "source": [
    "import dgl\n",
    "import dgl.function as fn\n",
    "import torch\n",
    "import torch.nn as nn\n",
    "import torch.optim as optim\n",
    "from dgl.data import CoraGraphDataset\n",
    "from dgl.data import PubmedGraphDataset\n",
    "from dgl.data import RedditDataset\n",
    "from dgl.nn import GNNExplainer"
   ]
  },
  {
   "cell_type": "code",
   "execution_count": 35,
   "metadata": {},
   "outputs": [
    {
     "name": "stdout",
     "output_type": "stream",
     "text": [
      "  NumNodes: 2708\n",
      "  NumEdges: 10556\n",
      "  NumFeats: 1433\n",
      "  NumClasses: 7\n",
      "  NumTrainingSamples: 140\n",
      "  NumValidationSamples: 500\n",
      "  NumTestSamples: 1000\n",
      "Done loading data from cached files.\n"
     ]
    }
   ],
   "source": [
    "# load the cora dataset\n",
    "data = CoraGraphDataset()\n",
    "g = data[0]\n",
    "\n",
    "# set the feature and labels\n",
    "features = g.ndata['feat']\n",
    "labels = g.ndata['label']\n",
    "\n",
    "#set the train, val, test mask\n",
    "train_mask = g.ndata['train_mask']\n",
    "val_mask = g.ndata['val_mask']\n",
    "test_mask = g.ndata['test_mask']"
   ]
  },
  {
   "cell_type": "code",
   "execution_count": 36,
   "metadata": {},
   "outputs": [],
   "source": [
    "class Model(nn.Module):\n",
    "    def __init__(self, in_feats, out_feats):\n",
    "        super(Model, self).__init__()\n",
    "        self.linear = nn.Linear(in_feats, out_feats)\n",
    "\n",
    "    def forward(self, graph, feat, eweight=None):\n",
    "        with graph.local_scope():\n",
    "            feat = self.linear(feat)\n",
    "            graph.ndata['h'] = feat\n",
    "            if eweight is None:\n",
    "                graph.update_all(fn.copy_u('h', 'm'), fn.sum('m', 'h'))\n",
    "            else:\n",
    "                graph.edata['w'] = eweight\n",
    "                graph.update_all(fn.u_mul_e('h', 'w', 'm'), fn.sum('m', 'h'))\n",
    "            return graph.ndata['h']\n",
    "\n",
    "# initialzie the model\n",
    "model = Model(features.shape[1], data.num_classes)"
   ]
  },
  {
   "cell_type": "code",
   "execution_count": 37,
   "metadata": {},
   "outputs": [
    {
     "name": "stdout",
     "output_type": "stream",
     "text": [
      "Epoch 1, Loss: 1.9702006578445435\n",
      "Epoch 2, Loss: 1.9164707660675049\n",
      "Epoch 3, Loss: 1.8697270154953003\n",
      "Epoch 4, Loss: 1.8290958404541016\n",
      "Epoch 5, Loss: 1.793526530265808\n",
      "Epoch 6, Loss: 1.7610034942626953\n",
      "Epoch 7, Loss: 1.72983717918396\n",
      "Epoch 8, Loss: 1.6991691589355469\n",
      "Epoch 9, Loss: 1.6686962842941284\n",
      "Epoch 10, Loss: 1.6384177207946777\n"
     ]
    }
   ],
   "source": [
    "# sett the loss function and optimizer\n",
    "criterion = nn.CrossEntropyLoss()\n",
    "optimizer = optim.Adam(model.parameters(), lr=1e-2)\n",
    "\n",
    "# model training loop\n",
    "for epoch in range(10):\n",
    "    model.train()\n",
    "    logits = model(g, features)\n",
    "    loss = criterion(logits[train_mask], labels[train_mask])\n",
    "\n",
    "    optimizer.zero_grad()\n",
    "    loss.backward()\n",
    "    optimizer.step()\n",
    "\n",
    "    print(f'Epoch {epoch+1}, Loss: {loss.item()}')"
   ]
  },
  {
   "cell_type": "code",
   "execution_count": 38,
   "metadata": {},
   "outputs": [],
   "source": [
    "explainer = GNNExplainer(model, num_hops=1)"
   ]
  },
  {
   "cell_type": "code",
   "execution_count": 39,
   "metadata": {},
   "outputs": [
    {
     "name": "stderr",
     "output_type": "stream",
     "text": [
      "  0%|          | 0/100 [00:00<?, ?it/s]"
     ]
    },
    {
     "name": "stderr",
     "output_type": "stream",
     "text": [
      "Explain node {node_id}: 100%|██████████| 100/100 [00:00<00:00, 822.51it/s]\n"
     ]
    }
   ],
   "source": [
    "new_center, sg, feat_mask, edge_mask = explainer.explain_node(10, g, features)"
   ]
  },
  {
   "cell_type": "code",
   "execution_count": 40,
   "metadata": {},
   "outputs": [
    {
     "data": {
      "text/plain": [
       "tensor([0])"
      ]
     },
     "execution_count": 40,
     "metadata": {},
     "output_type": "execute_result"
    }
   ],
   "source": [
    "new_center"
   ]
  },
  {
   "cell_type": "code",
   "execution_count": 41,
   "metadata": {},
   "outputs": [
    {
     "data": {
      "text/plain": [
       "4"
      ]
     },
     "execution_count": 41,
     "metadata": {},
     "output_type": "execute_result"
    }
   ],
   "source": [
    "sg.num_edges()"
   ]
  },
  {
   "cell_type": "code",
   "execution_count": 42,
   "metadata": {},
   "outputs": [
    {
     "data": {
      "text/plain": [
       "tensor([  10,  476, 2545])"
      ]
     },
     "execution_count": 42,
     "metadata": {},
     "output_type": "execute_result"
    }
   ],
   "source": [
    "#old IDs of the nodes in the subgraph\n",
    "sg.ndata[dgl.NID]"
   ]
  },
  {
   "cell_type": "code",
   "execution_count": 43,
   "metadata": {},
   "outputs": [
    {
     "data": {
      "text/plain": [
       "tensor([   30,    31,  1954, 10223])"
      ]
     },
     "execution_count": 43,
     "metadata": {},
     "output_type": "execute_result"
    }
   ],
   "source": [
    "sg.edata[dgl.EID] #old IDs of the edges in the subgraph"
   ]
  },
  {
   "cell_type": "code",
   "execution_count": 44,
   "metadata": {},
   "outputs": [
    {
     "data": {
      "text/plain": [
       "tensor([0.2538, 0.2892, 0.2494,  ..., 0.3141, 0.2812, 0.2605])"
      ]
     },
     "execution_count": 44,
     "metadata": {},
     "output_type": "execute_result"
    }
   ],
   "source": [
    "feat_mask\n",
    "#it's more important.."
   ]
  },
  {
   "cell_type": "code",
   "execution_count": 45,
   "metadata": {},
   "outputs": [
    {
     "data": {
      "text/plain": [
       "tensor([0.7957, 0.8986, 0.1723, 0.1399])"
      ]
     },
     "execution_count": 45,
     "metadata": {},
     "output_type": "execute_result"
    }
   ],
   "source": [
    "edge_mask\n",
    "#it's not important unless it's 1-hop neighborhood..\n",
    "#if we have a k-hop... <- we can deal w/ this later on.."
   ]
  },
  {
   "cell_type": "code",
   "execution_count": 46,
   "metadata": {},
   "outputs": [
    {
     "data": {
      "text/plain": [
       "['__class__',\n",
       " '__contains__',\n",
       " '__copy__',\n",
       " '__delattr__',\n",
       " '__dict__',\n",
       " '__dir__',\n",
       " '__doc__',\n",
       " '__eq__',\n",
       " '__format__',\n",
       " '__ge__',\n",
       " '__getattribute__',\n",
       " '__getitem__',\n",
       " '__gt__',\n",
       " '__hash__',\n",
       " '__init__',\n",
       " '__init_subclass__',\n",
       " '__le__',\n",
       " '__lt__',\n",
       " '__module__',\n",
       " '__ne__',\n",
       " '__new__',\n",
       " '__reduce__',\n",
       " '__reduce_ex__',\n",
       " '__repr__',\n",
       " '__setattr__',\n",
       " '__setstate__',\n",
       " '__sizeof__',\n",
       " '__str__',\n",
       " '__subclasshook__',\n",
       " '__weakref__',\n",
       " '_batch_num_edges',\n",
       " '_batch_num_nodes',\n",
       " '_canonical_etypes',\n",
       " '_dsttypes_invmap',\n",
       " '_edge_frames',\n",
       " '_etype2canonical',\n",
       " '_etypes',\n",
       " '_etypes_invmap',\n",
       " '_find_etypes',\n",
       " '_get_e_repr',\n",
       " '_get_n_repr',\n",
       " '_graph',\n",
       " '_idtype_str',\n",
       " '_init',\n",
       " '_is_unibipartite',\n",
       " '_node_frames',\n",
       " '_ntypes',\n",
       " '_pop_e_repr',\n",
       " '_pop_n_repr',\n",
       " '_reset_cached_info',\n",
       " '_set_e_repr',\n",
       " '_set_n_repr',\n",
       " '_srctypes_invmap',\n",
       " 'add_edge',\n",
       " 'add_edges',\n",
       " 'add_nodes',\n",
       " 'add_self_loop',\n",
       " 'adj',\n",
       " 'adj_sparse',\n",
       " 'adjacency_matrix',\n",
       " 'adjacency_matrix_scipy',\n",
       " 'all_edges',\n",
       " 'apply_edges',\n",
       " 'apply_nodes',\n",
       " 'astype',\n",
       " 'batch_num_edges',\n",
       " 'batch_num_nodes',\n",
       " 'batch_size',\n",
       " 'canonical_etypes',\n",
       " 'clone',\n",
       " 'cpu',\n",
       " 'create_formats_',\n",
       " 'device',\n",
       " 'dstdata',\n",
       " 'dstnodes',\n",
       " 'dsttypes',\n",
       " 'edata',\n",
       " 'edge_attr_schemes',\n",
       " 'edge_id',\n",
       " 'edge_ids',\n",
       " 'edge_subgraph',\n",
       " 'edge_type_subgraph',\n",
       " 'edges',\n",
       " 'etypes',\n",
       " 'filter_edges',\n",
       " 'filter_nodes',\n",
       " 'find_edges',\n",
       " 'formats',\n",
       " 'from_networkx',\n",
       " 'from_scipy_sparse_matrix',\n",
       " 'get_edge_storage',\n",
       " 'get_etype_id',\n",
       " 'get_node_storage',\n",
       " 'get_ntype_id',\n",
       " 'get_ntype_id_from_dst',\n",
       " 'get_ntype_id_from_src',\n",
       " 'global_uniform_negative_sampling',\n",
       " 'group_apply_edges',\n",
       " 'has_edge_between',\n",
       " 'has_edges_between',\n",
       " 'has_node',\n",
       " 'has_nodes',\n",
       " 'idtype',\n",
       " 'in_degree',\n",
       " 'in_degrees',\n",
       " 'in_edges',\n",
       " 'in_subgraph',\n",
       " 'inc',\n",
       " 'incidence_matrix',\n",
       " 'int',\n",
       " 'is_block',\n",
       " 'is_homogeneous',\n",
       " 'is_multigraph',\n",
       " 'is_pinned',\n",
       " 'is_readonly',\n",
       " 'is_unibipartite',\n",
       " 'khop_in_subgraph',\n",
       " 'khop_out_subgraph',\n",
       " 'line_graph',\n",
       " 'local_scope',\n",
       " 'local_var',\n",
       " 'long',\n",
       " 'metagraph',\n",
       " 'multi_pull',\n",
       " 'multi_recv',\n",
       " 'multi_send_and_recv',\n",
       " 'multi_update_all',\n",
       " 'ndata',\n",
       " 'node_attr_schemes',\n",
       " 'node_type_subgraph',\n",
       " 'nodes',\n",
       " 'ntypes',\n",
       " 'num_dst_nodes',\n",
       " 'num_edges',\n",
       " 'num_nodes',\n",
       " 'num_src_nodes',\n",
       " 'number_of_dst_nodes',\n",
       " 'number_of_edges',\n",
       " 'number_of_nodes',\n",
       " 'number_of_src_nodes',\n",
       " 'out_degree',\n",
       " 'out_degrees',\n",
       " 'out_edges',\n",
       " 'out_subgraph',\n",
       " 'pin_memory_',\n",
       " 'predecessors',\n",
       " 'prop_edges',\n",
       " 'prop_nodes',\n",
       " 'pull',\n",
       " 'push',\n",
       " 'readonly',\n",
       " 'record_stream',\n",
       " 'recv',\n",
       " 'register_apply_edge_func',\n",
       " 'register_apply_node_func',\n",
       " 'register_message_func',\n",
       " 'register_reduce_func',\n",
       " 'remove_edges',\n",
       " 'remove_nodes',\n",
       " 'remove_self_loop',\n",
       " 'reorder_graph',\n",
       " 'reverse',\n",
       " 'sample_etype_neighbors',\n",
       " 'sample_neighbors',\n",
       " 'sample_neighbors_biased',\n",
       " 'select_topk',\n",
       " 'send',\n",
       " 'send_and_recv',\n",
       " 'set_batch_num_edges',\n",
       " 'set_batch_num_nodes',\n",
       " 'set_e_initializer',\n",
       " 'set_n_initializer',\n",
       " 'shared_memory',\n",
       " 'srcdata',\n",
       " 'srcnodes',\n",
       " 'srctypes',\n",
       " 'subgraph',\n",
       " 'successors',\n",
       " 'to',\n",
       " 'to_canonical_etype',\n",
       " 'to_cugraph',\n",
       " 'to_networkx',\n",
       " 'to_simple',\n",
       " 'unpin_memory_',\n",
       " 'update_all']"
      ]
     },
     "execution_count": 46,
     "metadata": {},
     "output_type": "execute_result"
    }
   ],
   "source": [
    "dir(sg)\n",
    "#using ~explainer, try to access every node in the subgraph...\n",
    "#to-do-list\n",
    "#print the node and neighbors for each node.. <- this is right?"
   ]
  },
  {
   "cell_type": "code",
   "execution_count": 47,
   "metadata": {},
   "outputs": [],
   "source": [
    "#To-Do-List ->\n",
    "#Synthetic and real-world\n",
    "#next step -> using the harvard graph dataset (We need to understand the dataset)\n",
    "#when they're generating the sub-graph, understand the representation of the dataset\n",
    "#domain-knowledge on the sub-graph"
   ]
  },
  {
   "cell_type": "code",
   "execution_count": 48,
   "metadata": {},
   "outputs": [],
   "source": [
    "#To-do-list\n",
    "#Try to do multiple things\n",
    "#how to access the subgraph-> Adjacency list\n",
    "#run for every dataset\n",
    "#How dataset consists of?.. in other words, in the gnn explainer, experiment(fully understand the process)"
   ]
  },
  {
   "cell_type": "code",
   "execution_count": 49,
   "metadata": {},
   "outputs": [],
   "source": [
    "#first-order formula"
   ]
  },
  {
   "cell_type": "markdown",
   "metadata": {},
   "source": []
  },
  {
   "cell_type": "markdown",
   "metadata": {},
   "source": [
    "##Visualization"
   ]
  },
  {
   "cell_type": "code",
   "execution_count": 50,
   "metadata": {},
   "outputs": [
    {
     "name": "stderr",
     "output_type": "stream",
     "text": [
      "Explain graph: 100%|██████████| 100/100 [00:01<00:00, 78.39it/s]\n"
     ]
    },
    {
     "name": "stdout",
     "output_type": "stream",
     "text": [
      "tensor([ 633, 1862, 2582,    0])\n",
      "tensor([ 2569,  7565, 10306])\n"
     ]
    },
    {
     "data": {
      "image/png": "[encoded data removed]",
      "text/plain": [
       "<Figure size 640x480 with 1 Axes>"
      ]
     },
     "metadata": {},
     "output_type": "display_data"
    },
    {
     "data": {
      "image/png": "[encoded data removed]",
      "text/plain": [
       "<Figure size 640x480 with 1 Axes>"
      ]
     },
     "metadata": {},
     "output_type": "display_data"
    }
   ],
   "source": [
    "import dgl\n",
    "import dgl.data\n",
    "import networkx as nx\n",
    "import matplotlib.pyplot as plt\n",
    "\n",
    "# 원본 그래프 생성\n",
    "g = data[0]\n",
    "\n",
    "# GNNExplainer를 이용해 edge_mask 계산\n",
    "explainer = GNNExplainer(model, num_hops=1)\n",
    "feat_mask, edge_mask = explainer.explain_graph(g, g.ndata['feat'])\n",
    "\n",
    "# 중요한 에지만 남기고 새로운 그래프 생성\n",
    "new_g = g.edge_subgraph(torch.nonzero(edge_mask > 0.5).squeeze())\n",
    "\n",
    "print(new_g.ndata[dgl.NID])\n",
    "print(new_g.edata[dgl.EID])\n",
    "\n",
    "# networkx 호환 그래프로 변환 및 시각화\n",
    "nx_g = new_g.to_networkx()\n",
    "nx_g = nx.relabel_nodes(nx_g, dict(enumerate(new_g.ndata[dgl.NID].tolist())))\n",
    "pos = nx.spring_layout(nx_g)\n",
    "nx.draw(nx_g, pos, with_labels=True)\n",
    "plt.show()\n",
    "\n",
    "\n",
    "\n",
    "# 보너스: node explanation 시각화\n",
    "nx_sg = dgl.to_networkx(sg)\n",
    "nx_sg = nx.relabel_nodes(nx_sg, dict(enumerate(sg.ndata[dgl.NID].tolist())))\n",
    "pos = nx.spring_layout(nx_sg)\n",
    "nx.draw(nx_sg, pos, with_labels=True)\n",
    "plt.show()\n"
   ]
  }
 ],
 "metadata": {
  "kernelspec": {
   "display_name": "base",
   "language": "python",
   "name": "python3"
  },
  "language_info": {
   "codemirror_mode": {
    "name": "ipython",
    "version": 3
   },
   "file_extension": ".py",
   "mimetype": "text/x-python",
   "name": "python",
   "nbconvert_exporter": "python",
   "pygments_lexer": "ipython3",
   "version": "3.10.14"
  }
 },
 "nbformat": 4,
 "nbformat_minor": 2
}
